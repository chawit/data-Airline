{
  "nbformat": 4,
  "nbformat_minor": 0,
  "metadata": {
    "colab": {
      "name": "SVM[Final].ipynb",
      "provenance": []
    },
    "kernelspec": {
      "name": "python3",
      "display_name": "Python 3"
    }
  },
  "cells": [
    {
      "cell_type": "code",
      "metadata": {
        "id": "eP1LEYhUtYTC",
        "colab_type": "code",
        "colab": {}
      },
      "source": [
        "#https://medium.com/@vasista/sentiment-analysis-using-svm-338d418e3ff1\n",
        "import pandas as pd# train Data\n",
        "#trainData = pd.read_csv(\"https://raw.githubusercontent.com/chawit/data-Airline/master/TrainTwits.csv\")# test Data\n",
        "#testData = pd.read_csv(\"https://raw.githubusercontent.com/chawit/data-Airline/master/twitsTest.csv\")\n",
        "trainData = pd.read_csv(\"https://raw.githubusercontent.com/chawit/data-Airline/master/TrainTwits2Class.csv\")# test Data\n",
        "testData = pd.read_csv(\"https://raw.githubusercontent.com/chawit/data-Airline/master/twitsTest2Class.csv\")"
      ],
      "execution_count": 0,
      "outputs": []
    },
    {
      "cell_type": "code",
      "metadata": {
        "id": "J1ScmIOr6p_k",
        "colab_type": "code",
        "colab": {
          "base_uri": "https://localhost:8080/",
          "height": 206
        },
        "outputId": "6bdff354-efb2-4432-d7b2-df82be669fdb"
      },
      "source": [
        "trainData.sample(frac=1).head(5) # shuffle the df and pick first 5"
      ],
      "execution_count": 22,
      "outputs": [
        {
          "output_type": "execute_result",
          "data": {
            "text/html": [
              "<div>\n",
              "<style scoped>\n",
              "    .dataframe tbody tr th:only-of-type {\n",
              "        vertical-align: middle;\n",
              "    }\n",
              "\n",
              "    .dataframe tbody tr th {\n",
              "        vertical-align: top;\n",
              "    }\n",
              "\n",
              "    .dataframe thead th {\n",
              "        text-align: right;\n",
              "    }\n",
              "</style>\n",
              "<table border=\"1\" class=\"dataframe\">\n",
              "  <thead>\n",
              "    <tr style=\"text-align: right;\">\n",
              "      <th></th>\n",
              "      <th>Content</th>\n",
              "      <th>Label</th>\n",
              "    </tr>\n",
              "  </thead>\n",
              "  <tbody>\n",
              "    <tr>\n",
              "      <th>6271</th>\n",
              "      <td>@JetBlue Amazingly Awesome customer service fr...</td>\n",
              "      <td>positive</td>\n",
              "    </tr>\n",
              "    <tr>\n",
              "      <th>4877</th>\n",
              "      <td>@SouthwestAir yeah they told me it would be on...</td>\n",
              "      <td>negative</td>\n",
              "    </tr>\n",
              "    <tr>\n",
              "      <th>10931</th>\n",
              "      <td>@AmericanAir thanks to FA Shawn for spectacula...</td>\n",
              "      <td>positive</td>\n",
              "    </tr>\n",
              "    <tr>\n",
              "      <th>5265</th>\n",
              "      <td>Why “@JetBlue: Our fleet's on fleek. http://t....</td>\n",
              "      <td>positive</td>\n",
              "    </tr>\n",
              "    <tr>\n",
              "      <th>644</th>\n",
              "      <td>@united I will, as soon as I am done with my a...</td>\n",
              "      <td>positive</td>\n",
              "    </tr>\n",
              "  </tbody>\n",
              "</table>\n",
              "</div>"
            ],
            "text/plain": [
              "                                                 Content     Label\n",
              "6271   @JetBlue Amazingly Awesome customer service fr...  positive\n",
              "4877   @SouthwestAir yeah they told me it would be on...  negative\n",
              "10931  @AmericanAir thanks to FA Shawn for spectacula...  positive\n",
              "5265   Why “@JetBlue: Our fleet's on fleek. http://t....  positive\n",
              "644    @united I will, as soon as I am done with my a...  positive"
            ]
          },
          "metadata": {
            "tags": []
          },
          "execution_count": 22
        }
      ]
    },
    {
      "cell_type": "code",
      "metadata": {
        "id": "Pn0ADUxU6sHc",
        "colab_type": "code",
        "colab": {}
      },
      "source": [
        "from sklearn.feature_extraction.text import TfidfVectorizer# Create feature vectors\n",
        "vectorizer = TfidfVectorizer(min_df = 5,\n",
        "                             max_df = 0.8,\n",
        "                             sublinear_tf = True,\n",
        "                             use_idf = True)\n",
        "train_vectors = vectorizer.fit_transform(trainData['Content'])\n",
        "test_vectors = vectorizer.transform(testData['Content'])"
      ],
      "execution_count": 0,
      "outputs": []
    },
    {
      "cell_type": "code",
      "metadata": {
        "id": "e7xViJ4K6yxv",
        "colab_type": "code",
        "colab": {
          "base_uri": "https://localhost:8080/",
          "height": 124
        },
        "outputId": "87ad490e-103a-4816-a344-1449e495d411"
      },
      "source": [
        "import time\n",
        "from sklearn import svm\n",
        "from sklearn.metrics import classification_report# Perform classification with SVM, kernel=linear\n",
        "from sklearn.metrics import accuracy_score\n",
        "classifier_linear = svm.SVC(kernel='linear')\n",
        "t0 = time.time()\n",
        "classifier_linear.fit(train_vectors, trainData['Label'])\n",
        "t1 = time.time()\n",
        "prediction_linear = classifier_linear.predict(test_vectors)\n",
        "t2 = time.time()\n",
        "time_linear_train = t1-t0\n",
        "time_linear_predict = t2-t1# results\n",
        "print(\"Accuracy \"+str(accuracy_score(testData['Label'], prediction_linear)))\n",
        "report = classification_report(testData['Label'], prediction_linear, output_dict=True)\n",
        "print(\"Training time: \"+str(time_linear_train)+\" Prediction time: \"+str(time_linear_predict))\n",
        "print(classification_report( testData['Label'], prediction_linear, output_dict = True))\n",
        "print('positive: ', report['positive'])\n",
        "print('negative: ', report['negative'])\n",
        "#print('neutral: ', report['neutral'])"
      ],
      "execution_count": 25,
      "outputs": [
        {
          "output_type": "stream",
          "text": [
            "Accuracy 0.8846153846153846\n",
            "Training time: 7.546044826507568 Prediction time: 0.056067466735839844\n",
            "{'negative': {'precision': 0.9117647058823529, 'recall': 0.9117647058823529, 'f1-score': 0.9117647058823528, 'support': 68}, 'positive': {'precision': 0.8333333333333334, 'recall': 0.8333333333333334, 'f1-score': 0.8333333333333334, 'support': 36}, 'accuracy': 0.8846153846153846, 'macro avg': {'precision': 0.8725490196078431, 'recall': 0.8725490196078431, 'f1-score': 0.8725490196078431, 'support': 104}, 'weighted avg': {'precision': 0.8846153846153846, 'recall': 0.8846153846153846, 'f1-score': 0.8846153846153846, 'support': 104}}\n",
            "positive:  {'precision': 0.8333333333333334, 'recall': 0.8333333333333334, 'f1-score': 0.8333333333333334, 'support': 36}\n",
            "negative:  {'precision': 0.9117647058823529, 'recall': 0.9117647058823529, 'f1-score': 0.9117647058823528, 'support': 68}\n"
          ],
          "name": "stdout"
        }
      ]
    }
  ]
}
