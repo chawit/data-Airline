{
  "nbformat": 4,
  "nbformat_minor": 0,
  "metadata": {
    "colab": {
      "name": "SVM.ipynb",
      "provenance": []
    },
    "kernelspec": {
      "name": "python3",
      "display_name": "Python 3"
    }
  },
  "cells": [
    {
      "cell_type": "code",
      "metadata": {
        "id": "i6eF8qKaIdza",
        "colab_type": "code",
        "colab": {
          "base_uri": "https://localhost:8080/",
          "height": 67
        },
        "outputId": "4a916b1c-5a4d-4ab1-9788-84c1cd1921a1"
      },
      "source": [
        "import pandas as pd# train Data\n",
        "from sklearn import metrics\n",
        "from sklearn.model_selection import train_test_split\n",
        "from sklearn.feature_extraction.text import CountVectorizer\n",
        "from sklearn.svm import LinearSVC\n",
        "TwitterData = pd.read_csv(\"https://raw.githubusercontent.com/chawit/data-Airline/master/AllTweet.csv\", names=['Content', 'Label'], encoding= 'unicode_escape')\n",
        "X = TwitterData.Content\n",
        "y = TwitterData.Label #0 คือ Negative และ 1 คือ Positive\n",
        "#Using CountVectorizer to convert text into tokens/features\n",
        "vect = CountVectorizer(stop_words='english', ngram_range = (1,1), max_df = .80, min_df = 4)\n",
        "X_train, X_test, y_train, y_test = train_test_split(X,y,random_state=1, test_size= 0.2)\n",
        "#Using training data to transform text into counts of features for each message\n",
        "vect.fit(X_train)\n",
        "X_train_dtm = vect.transform(X_train) \n",
        "X_test_dtm = vect.transform(X_test)\n",
        "\n",
        "#Accuracy using SVM Model\n",
        "SVM = LinearSVC()\n",
        "SVM.fit(X_train_dtm, y_train)\n",
        "y_pred = SVM.predict(X_test_dtm)\n",
        "print('\\nSupport Vector Machine')\n",
        "print('Accuracy Score: ',metrics.accuracy_score(y_test,y_pred)*100,'%',sep='')\n"
      ],
      "execution_count": 1,
      "outputs": [
        {
          "output_type": "stream",
          "text": [
            "\n",
            "Support Vector Machine\n",
            "Accuracy Score: 91.03508012126463%\n"
          ],
          "name": "stdout"
        }
      ]
    }
  ]
}