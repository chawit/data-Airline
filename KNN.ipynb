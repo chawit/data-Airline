{
  "nbformat": 4,
  "nbformat_minor": 0,
  "metadata": {
    "colab": {
      "name": "KNN.ipynb",
      "provenance": []
    },
    "kernelspec": {
      "name": "python3",
      "display_name": "Python 3"
    }
  },
  "cells": [
    {
      "cell_type": "code",
      "metadata": {
        "id": "k9fuso7GeFE5",
        "colab_type": "code",
        "colab": {
          "base_uri": "https://localhost:8080/",
          "height": 117
        },
        "outputId": "cc14419d-4e12-4674-b764-9c3e6774c38a"
      },
      "source": [
        "import pandas as pd# train Data\n",
        "from sklearn import metrics\n",
        "from sklearn.model_selection import train_test_split\n",
        "from sklearn.feature_extraction.text import CountVectorizer\n",
        "from sklearn.neighbors import KNeighborsClassifier\n",
        "TwitterData = pd.read_csv(\"https://raw.githubusercontent.com/chawit/data-Airline/master/AllTweet.csv\", names=['Content', 'Label'], encoding= 'unicode_escape')\n",
        "X = TwitterData.Content\n",
        "y = TwitterData.Label\n",
        "#Using CountVectorizer to convert text into tokens/features\n",
        "vect = CountVectorizer(stop_words='english', ngram_range = (1,1), max_df = .80, min_df = 4)\n",
        "X_train, X_test, y_train, y_test = train_test_split(X,y,random_state=1, test_size= 0.2)\n",
        "#Using training data to transform text into counts of features for each message\n",
        "vect.fit(X_train)\n",
        "X_train_dtm = vect.transform(X_train) \n",
        "X_test_dtm = vect.transform(X_test)\n",
        "#Accuracy using KNN Model\n",
        "KNN = KNeighborsClassifier(n_neighbors = 5)\n",
        "KNN.fit(X_train_dtm, y_train)\n",
        "\n",
        "y_pred = KNN.predict(X_test_dtm)\n",
        "print('\\nK Nearest Neighbors (NN = 5)')\n",
        "print('Accuracy Score: ',metrics.accuracy_score(y_test,y_pred)*100,'%',sep='')\n",
        "print('Confusion Matrix: ',metrics.confusion_matrix(y_test,y_pred), sep = '\\n')\n"
      ],
      "execution_count": 1,
      "outputs": [
        {
          "output_type": "stream",
          "text": [
            "\n",
            "K Nearest Neighbors (NN = 5)\n",
            "Accuracy Score: 84.7986141186661%\n",
            "Confusion Matrix: \n",
            "[[1640  197]\n",
            " [ 154  318]]\n"
          ],
          "name": "stdout"
        }
      ]
    }
  ]
}