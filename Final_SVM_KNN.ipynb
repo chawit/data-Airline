{
  "nbformat": 4,
  "nbformat_minor": 0,
  "metadata": {
    "colab": {
      "name": "Final_6219910002.ipynb",
      "provenance": []
    },
    "kernelspec": {
      "name": "python3",
      "display_name": "Python 3"
    }
  },
  "cells": [
    {
      "cell_type": "code",
      "metadata": {
        "id": "uw0K6QF2b3je",
        "colab_type": "code",
        "colab": {}
      },
      "source": [
        "import pandas as pd# train Data\n",
        "from sklearn import metrics\n",
        "from sklearn.model_selection import train_test_split\n",
        "from sklearn.feature_extraction.text import CountVectorizer\n",
        "from sklearn.svm import LinearSVC\n",
        "from sklearn.neighbors import KNeighborsClassifier\n",
        "TwitterData = pd.read_csv(\"https://raw.githubusercontent.com/chawit/data-Airline/master/AllTwits_rev3.csv\", names=['Content', 'Label'], encoding= 'unicode_escape')"
      ],
      "execution_count": 0,
      "outputs": []
    },
    {
      "cell_type": "code",
      "metadata": {
        "id": "Y0OKtXJRcJsn",
        "colab_type": "code",
        "colab": {}
      },
      "source": [
        "X = TwitterData.Content\n",
        "y = TwitterData.Label"
      ],
      "execution_count": 0,
      "outputs": []
    },
    {
      "cell_type": "code",
      "metadata": {
        "id": "L9zeowgzcPmx",
        "colab_type": "code",
        "colab": {
          "base_uri": "https://localhost:8080/",
          "height": 300
        },
        "outputId": "1f50bd7a-3d24-4427-bf09-a86a795bec28"
      },
      "source": [
        "#Using CountVectorizer to convert text into tokens/features\n",
        "vect = CountVectorizer(stop_words='english', ngram_range = (1,1), max_df = .80, min_df = 4)\n",
        "X_train, X_test, y_train, y_test = train_test_split(X,y,random_state=1, test_size= 0.2)\n",
        "#Using training data to transform text into counts of features for each message\n",
        "vect.fit(X_train)\n",
        "X_train_dtm = vect.transform(X_train) \n",
        "X_test_dtm = vect.transform(X_test)\n",
        "\n",
        "\n",
        "#Accuracy using SVM Model\n",
        "SVM = LinearSVC()\n",
        "SVM.fit(X_train_dtm, y_train)\n",
        "y_pred = SVM.predict(X_test_dtm)\n",
        "print('\\nSupport Vector Machine')\n",
        "print('Accuracy Score: ',metrics.accuracy_score(y_test,y_pred)*100,'%',sep='')\n",
        "print('Confusion Matrix: ',metrics.confusion_matrix(y_test,y_pred), sep = '\\n')\n",
        "\n",
        "#Accuracy using KNN Model\n",
        "KNN = KNeighborsClassifier(n_neighbors = 5)\n",
        "KNN.fit(X_train_dtm, y_train)\n",
        "\n",
        "y_pred = KNN.predict(X_test_dtm)\n",
        "print('\\nK Nearest Neighbors (NN = 5)')\n",
        "print('Accuracy Score: ',metrics.accuracy_score(y_test,y_pred)*100,'%',sep='')\n",
        "print('Confusion Matrix: ',metrics.confusion_matrix(y_test,y_pred), sep = '\\n')\n",
        "\n",
        "\n",
        "#Input Review\n",
        "print('\\nTest a custom review message')\n",
        "print('Enter review to be analysed: ', end=\" \")\n",
        "test = []\n",
        "test.append(input())\n",
        " \n",
        "test_vector = vect.transform(test)\n",
        "\n",
        "#Positive = trainingVector.transform([\"1\"])\n",
        "#predLabel = LR_complete.predict(test_dtm)\n",
        "\n",
        "y_pred_KNN = KNN.predict(test_vector)\n",
        "y_pred_SVM = SVM.predict(test_vector)\n",
        "#print(y_pred_KNN[0])test_vector\n",
        "\n",
        "\n",
        "tags = ['Negative','Positive']\n",
        "#Display Output\n",
        "#print('The review is predicted:'+tags[int(predLabel[0])])\n",
        "print(\"KNN Predict:\"+ str(tags[int(y_pred_KNN[0])]))\n",
        "print(\"SVM Predict:\"+ str(tags[int(y_pred_SVM[0])]))"
      ],
      "execution_count": 5,
      "outputs": [
        {
          "output_type": "stream",
          "text": [
            "\n",
            "Support Vector Machine\n",
            "Accuracy Score: 91.03508012126463%\n",
            "Confusion Matrix: \n",
            "[[1740   97]\n",
            " [ 110  362]]\n",
            "\n",
            "K Nearest Neighbors (NN = 5)\n",
            "Accuracy Score: 84.7986141186661%\n",
            "Confusion Matrix: \n",
            "[[1640  197]\n",
            " [ 154  318]]\n",
            "\n",
            "Test a custom review message\n",
            "Enter review to be analysed:  love\n",
            "KNN Predict:Positive\n",
            "SVM Predict:Positive\n"
          ],
          "name": "stdout"
        }
      ]
    }
  ]
}
